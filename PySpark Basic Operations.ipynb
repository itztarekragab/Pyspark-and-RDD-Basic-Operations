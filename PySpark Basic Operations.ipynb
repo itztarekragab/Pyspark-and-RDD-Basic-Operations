{
 "cells": [
  {
   "cell_type": "code",
   "execution_count": 1,
   "metadata": {},
   "outputs": [],
   "source": [
    "import findspark\n",
    "findspark.init()\n",
    "from pyspark.sql import SparkSession\n",
    "import pyspark.sql.functions as fun"
   ]
  },
  {
   "cell_type": "markdown",
   "metadata": {
    "id": "klOLe4_bQEU3"
   },
   "source": [
    "#### Using the walmart_stock.csv file"
   ]
  },
  {
   "cell_type": "markdown",
   "metadata": {
    "id": "pBTm6mJjQEU4"
   },
   "source": [
    "#### Starting a simple Spark Session"
   ]
  },
  {
   "cell_type": "code",
   "execution_count": 2,
   "metadata": {
    "id": "AFIdTSZaQEU6"
   },
   "outputs": [],
   "source": [
    "spark = SparkSession.builder.getOrCreate()"
   ]
  },
  {
   "cell_type": "markdown",
   "metadata": {
    "id": "_SvK1u-xQEU7"
   },
   "source": [
    "#### Loading the Walmart Stock CSV File"
   ]
  },
  {
   "cell_type": "code",
   "execution_count": 3,
   "metadata": {
    "id": "PFufNumHQEU8"
   },
   "outputs": [],
   "source": [
    "data = spark.read.csv('walmart_stock.csv', header=True)"
   ]
  },
  {
   "cell_type": "markdown",
   "metadata": {
    "id": "EWyuYG3HQEU9"
   },
   "source": [
    "#### What are the column names?"
   ]
  },
  {
   "cell_type": "code",
   "execution_count": 4,
   "metadata": {
    "id": "HqoXRFGuQEU-",
    "outputId": "41c6a83b-8efe-4174-accb-50d9bb1852f8"
   },
   "outputs": [
    {
     "data": {
      "text/plain": [
       "['Date', 'Open', 'High', 'Low', 'Close', 'Volume', 'Adj Close']"
      ]
     },
     "execution_count": 4,
     "metadata": {},
     "output_type": "execute_result"
    }
   ],
   "source": [
    "data.columns"
   ]
  },
  {
   "cell_type": "markdown",
   "metadata": {
    "id": "IF87H3r1QEU_"
   },
   "source": [
    "#### What does the Schema look like?"
   ]
  },
  {
   "cell_type": "code",
   "execution_count": 5,
   "metadata": {
    "id": "FaM8KQGTQEU_",
    "outputId": "c4fb9566-c093-49dc-de42-a9a382011617"
   },
   "outputs": [
    {
     "name": "stdout",
     "output_type": "stream",
     "text": [
      "root\n",
      " |-- Date: string (nullable = true)\n",
      " |-- Open: string (nullable = true)\n",
      " |-- High: string (nullable = true)\n",
      " |-- Low: string (nullable = true)\n",
      " |-- Close: string (nullable = true)\n",
      " |-- Volume: string (nullable = true)\n",
      " |-- Adj Close: string (nullable = true)\n",
      "\n"
     ]
    }
   ],
   "source": [
    "data.printSchema()"
   ]
  },
  {
   "cell_type": "markdown",
   "metadata": {
    "id": "ixYkVStcQEVA"
   },
   "source": [
    "#### Print out the first 5 columns."
   ]
  },
  {
   "cell_type": "code",
   "execution_count": 6,
   "metadata": {
    "id": "4hWNEBxlQEVA",
    "outputId": "6a323af2-6437-4ea2-9286-c2e03dcf520f"
   },
   "outputs": [
    {
     "name": "stdout",
     "output_type": "stream",
     "text": [
      "+----------+------------------+---------+---------+------------------+--------+------------------+\n",
      "|      Date|              Open|     High|      Low|             Close|  Volume|         Adj Close|\n",
      "+----------+------------------+---------+---------+------------------+--------+------------------+\n",
      "|2012-01-03|         59.970001|61.060001|59.869999|         60.330002|12668800|52.619234999999996|\n",
      "|2012-01-04|60.209998999999996|60.349998|59.470001|59.709998999999996| 9593300|         52.078475|\n",
      "|2012-01-05|         59.349998|59.619999|58.369999|         59.419998|12768200|         51.825539|\n",
      "|2012-01-06|         59.419998|59.450001|58.869999|              59.0| 8069400|          51.45922|\n",
      "|2012-01-09|         59.029999|59.549999|58.919998|             59.18| 6679300|51.616215000000004|\n",
      "+----------+------------------+---------+---------+------------------+--------+------------------+\n",
      "only showing top 5 rows\n",
      "\n"
     ]
    }
   ],
   "source": [
    "data.show(5)"
   ]
  },
  {
   "cell_type": "markdown",
   "metadata": {
    "id": "k5biK3B4QEVB"
   },
   "source": [
    "#### Use describe() to learn about the DataFrame."
   ]
  },
  {
   "cell_type": "code",
   "execution_count": 7,
   "metadata": {
    "id": "GulzXGneQEVB",
    "outputId": "56e0e78f-1258-412b-d26a-f01749a9e4c0"
   },
   "outputs": [
    {
     "name": "stdout",
     "output_type": "stream",
     "text": [
      "+-------+----------+------------------+-----------------+-----------------+-----------------+-----------------+-----------------+\n",
      "|summary|      Date|              Open|             High|              Low|            Close|           Volume|        Adj Close|\n",
      "+-------+----------+------------------+-----------------+-----------------+-----------------+-----------------+-----------------+\n",
      "|  count|      1258|              1258|             1258|             1258|             1258|             1258|             1258|\n",
      "|   mean|      null| 72.35785375357709|72.83938807631165| 71.9186009594594|72.38844998012726|8222093.481717011|67.23883848728146|\n",
      "| stddev|      null|  6.76809024470826|6.768186808159218|6.744075756255496|6.756859163732991|  4519780.8431556|6.722609449996857|\n",
      "|    min|2012-01-03|56.389998999999996|        57.060001|        56.299999|        56.419998|         10010500|        50.363689|\n",
      "|    max|2016-12-30|         90.800003|        90.970001|            89.25|        90.470001|          9994400|84.91421600000001|\n",
      "+-------+----------+------------------+-----------------+-----------------+-----------------+-----------------+-----------------+\n",
      "\n"
     ]
    }
   ],
   "source": [
    "data.describe().show()"
   ]
  },
  {
   "cell_type": "markdown",
   "metadata": {
    "id": "p1nK57i1QEVC"
   },
   "source": [
    "#### Casting Some columns to different datatype"
   ]
  },
  {
   "cell_type": "code",
   "execution_count": 8,
   "metadata": {
    "id": "ciAYhyY7QEVC",
    "outputId": "bdec4412-7898-46ac-df9a-5205859ad82a"
   },
   "outputs": [],
   "source": [
    "data = data.withColumn(\"Date\", data[\"Date\"].cast('timestamp'))\n",
    "data = data.withColumn(\"Open\", data[\"Open\"].cast('float'))\n",
    "data = data.withColumn(\"High\", data[\"High\"].cast('float'))\n",
    "data = data.withColumn(\"Low\", data[\"Low\"].cast('float'))\n",
    "data = data.withColumn(\"Close\", data[\"Close\"].cast('float'))\n",
    "data = data.withColumn(\"Volume\", data[\"Volume\"].cast('float'))\n",
    "data = data.withColumn(\"Adj Close\", data[\"Adj Close\"].cast('float'))"
   ]
  },
  {
   "cell_type": "code",
   "execution_count": 9,
   "metadata": {
    "id": "vuKIj4WPQEVD"
   },
   "outputs": [
    {
     "name": "stdout",
     "output_type": "stream",
     "text": [
      "+-------------------+-----+-----+-----+-----+---------+---------+\n",
      "|               Date| Open| High|  Low|Close|   Volume|Adj Close|\n",
      "+-------------------+-----+-----+-----+-----+---------+---------+\n",
      "|2012-01-03 00:00:00|59.97|61.06|59.87|60.33|1.26688E7|52.619236|\n",
      "|2012-01-04 00:00:00|60.21|60.35|59.47|59.71|9593300.0|52.078476|\n",
      "|2012-01-05 00:00:00|59.35|59.62|58.37|59.42|1.27682E7| 51.82554|\n",
      "|2012-01-06 00:00:00|59.42|59.45|58.87| 59.0|8069400.0| 51.45922|\n",
      "|2012-01-09 00:00:00|59.03|59.55|58.92|59.18|6679300.0|51.616215|\n",
      "+-------------------+-----+-----+-----+-----+---------+---------+\n",
      "only showing top 5 rows\n",
      "\n"
     ]
    }
   ],
   "source": [
    "data.show(5)"
   ]
  },
  {
   "cell_type": "code",
   "execution_count": 10,
   "metadata": {
    "id": "y9QtiMvsQEVD",
    "outputId": "5e18ca18-6888-41e0-8e69-8e3aea746ee5"
   },
   "outputs": [
    {
     "name": "stdout",
     "output_type": "stream",
     "text": [
      "+-------+-----------------+-----------------+-----------------+-----------------+-----------------+-----------------+\n",
      "|summary|             Open|             High|              Low|            Close|           Volume|        Adj Close|\n",
      "+-------+-----------------+-----------------+-----------------+-----------------+-----------------+-----------------+\n",
      "|  count|             1258|             1258|             1258|             1258|             1258|             1258|\n",
      "|   mean|72.35785375452572| 72.8393880756178|71.91860094964979|72.38844997363553|8222093.478537361|67.23883840200064|\n",
      "| stddev|6.768090251767697|6.768186825250206|6.744075739203606|6.756859160119612|4519780.791987604|6.722609385249684|\n",
      "|    min|            56.39|            57.06|             56.3|            56.42|        2094900.0|         50.36369|\n",
      "|    25%|            68.62|            69.06|            68.16|            68.63|        5790200.0|        63.775513|\n",
      "|    50%|            73.23|            73.72|            72.84|            73.26|        7087800.0|         68.53921|\n",
      "|    75%|            76.63|             77.1|            76.25|            76.71|        9394700.0|         71.10966|\n",
      "|    max|             90.8|            90.97|            89.25|            90.47|      8.0898096E7|        84.914215|\n",
      "+-------+-----------------+-----------------+-----------------+-----------------+-----------------+-----------------+\n",
      "\n"
     ]
    }
   ],
   "source": [
    "data.summary().show()"
   ]
  },
  {
   "cell_type": "markdown",
   "metadata": {
    "id": "9MwLgnCSQEVD"
   },
   "source": [
    "#### Creating a new dataframe with a column called HV Ratio that is the ratio of the High Price versus volume of stock traded for a day."
   ]
  },
  {
   "cell_type": "code",
   "execution_count": 11,
   "metadata": {
    "id": "zgjpPZkRQEVE",
    "outputId": "c5bef4d1-866c-4c8c-bacf-cb1fae04ec82"
   },
   "outputs": [
    {
     "name": "stdout",
     "output_type": "stream",
     "text": [
      "+--------------------+\n",
      "|            HV Ratio|\n",
      "+--------------------+\n",
      "|4.819714682786927E-6|\n",
      "|6.290848662516662E-6|\n",
      "| 4.66941298944916E-6|\n",
      "| 7.36733843444859E-6|\n",
      "|8.915604814435727E-6|\n",
      "+--------------------+\n",
      "only showing top 5 rows\n",
      "\n"
     ]
    }
   ],
   "source": [
    "new_data = data.withColumn(\"HV Ratio\", data[\"High\"]/data[\"Volume\"])\n",
    "new_data.select('HV Ratio').show(5)"
   ]
  },
  {
   "cell_type": "markdown",
   "metadata": {
    "id": "sfOdDUdCQEVE"
   },
   "source": [
    "#### What day had the Peak High in Price?"
   ]
  },
  {
   "cell_type": "code",
   "execution_count": 12,
   "metadata": {
    "id": "FRi1idOrQEVE",
    "outputId": "264db69e-42c1-4303-b08d-21eafc1d021a"
   },
   "outputs": [
    {
     "name": "stdout",
     "output_type": "stream",
     "text": [
      "+-------------------+\n",
      "|               Date|\n",
      "+-------------------+\n",
      "|2015-01-13 00:00:00|\n",
      "+-------------------+\n",
      "only showing top 1 row\n",
      "\n"
     ]
    }
   ],
   "source": [
    "data.sort(fun.col('High'), ascending=False).select(\"Date\").show(1)"
   ]
  },
  {
   "cell_type": "markdown",
   "metadata": {
    "id": "z_RIIXHnQEVE"
   },
   "source": [
    "#### What is the mean of the Close column?"
   ]
  },
  {
   "cell_type": "code",
   "execution_count": 13,
   "metadata": {
    "id": "_W9kgKR7QEVF",
    "outputId": "03a0eb9a-e94e-43ef-ffa6-16759c930cee"
   },
   "outputs": [
    {
     "name": "stdout",
     "output_type": "stream",
     "text": [
      "+-----------------+\n",
      "|       avg(Close)|\n",
      "+-----------------+\n",
      "|72.38844997363553|\n",
      "+-----------------+\n",
      "\n"
     ]
    }
   ],
   "source": [
    "data.select(fun.mean('Close')).show()"
   ]
  },
  {
   "cell_type": "markdown",
   "metadata": {
    "id": "Z8V-r7I1QEVF"
   },
   "source": [
    "#### What is the max and min of the Volume column?"
   ]
  },
  {
   "cell_type": "code",
   "execution_count": 14,
   "metadata": {
    "id": "z5mrVE6WQEVF"
   },
   "outputs": [
    {
     "name": "stdout",
     "output_type": "stream",
     "text": [
      "+-----------+\n",
      "|max(Volume)|\n",
      "+-----------+\n",
      "|8.0898096E7|\n",
      "+-----------+\n",
      "\n"
     ]
    }
   ],
   "source": [
    "data.select(fun.max('Volume')).show()"
   ]
  },
  {
   "cell_type": "code",
   "execution_count": 15,
   "metadata": {
    "id": "yAklGLjPQEVG",
    "outputId": "53b59112-febd-48dd-a93c-4166467c7856"
   },
   "outputs": [
    {
     "name": "stdout",
     "output_type": "stream",
     "text": [
      "+-----------+\n",
      "|min(Volume)|\n",
      "+-----------+\n",
      "|  2094900.0|\n",
      "+-----------+\n",
      "\n"
     ]
    }
   ],
   "source": [
    "data.select(fun.min('Volume')).show()"
   ]
  },
  {
   "cell_type": "markdown",
   "metadata": {
    "id": "VT4RVThzQEVG"
   },
   "source": [
    "#### How many days was the Close lower than 60 dollars?"
   ]
  },
  {
   "cell_type": "code",
   "execution_count": 16,
   "metadata": {
    "id": "ukyn4th3QEVG",
    "outputId": "c6764e58-6754-42d3-f527-6063f21079db"
   },
   "outputs": [
    {
     "name": "stdout",
     "output_type": "stream",
     "text": [
      "+------------+\n",
      "|count(Close)|\n",
      "+------------+\n",
      "|          81|\n",
      "+------------+\n",
      "\n"
     ]
    }
   ],
   "source": [
    "new_data.select('Close').where(new_data['Close']<60).agg(fun.count(new_data['Close'])).show()"
   ]
  },
  {
   "cell_type": "markdown",
   "metadata": {
    "id": "7pqovtOeQEVG"
   },
   "source": [
    "#### What percentage of the time was the High greater than 80 dollars ?\n",
    "#### In other words, (Number of Days High>80)/(Total Days in the dataset)"
   ]
  },
  {
   "cell_type": "code",
   "execution_count": 17,
   "metadata": {
    "id": "NKtLJx4jQEVH",
    "outputId": "d41cfa36-6773-4f9c-8c16-f77825d3975a"
   },
   "outputs": [
    {
     "data": {
      "text/plain": [
       "0.09141494435612083"
      ]
     },
     "execution_count": 17,
     "metadata": {},
     "output_type": "execute_result"
    }
   ],
   "source": [
    "new_data.filter(new_data['High'] > 80).count() / new_data.select('High').count()"
   ]
  },
  {
   "cell_type": "markdown",
   "metadata": {
    "id": "hhggc4nrQEVH"
   },
   "source": [
    "#### What is the Pearson correlation between High and Volume?"
   ]
  },
  {
   "cell_type": "code",
   "execution_count": 18,
   "metadata": {
    "id": "l2QnuBp6QEVI",
    "outputId": "4cf8dd18-b877-4e2f-8873-86839e769017"
   },
   "outputs": [
    {
     "data": {
      "text/plain": [
       "-0.3384326095027024"
      ]
     },
     "execution_count": 18,
     "metadata": {},
     "output_type": "execute_result"
    }
   ],
   "source": [
    "new_data.stat.corr('High','Volume')"
   ]
  },
  {
   "cell_type": "markdown",
   "metadata": {
    "id": "5cUkJpW8QEVJ"
   },
   "source": [
    "#### What is the max High per year?"
   ]
  },
  {
   "cell_type": "code",
   "execution_count": 19,
   "metadata": {
    "id": "JX3A9WxbQEVK",
    "outputId": "97a587af-131f-4fa9-e726-62e30d323c06"
   },
   "outputs": [
    {
     "name": "stdout",
     "output_type": "stream",
     "text": [
      "+----------+---------+\n",
      "|year(Date)|max(High)|\n",
      "+----------+---------+\n",
      "|      2015|    90.97|\n",
      "|      2013|    81.37|\n",
      "|      2014|    88.09|\n",
      "|      2012|     77.6|\n",
      "|      2016|    75.19|\n",
      "+----------+---------+\n",
      "\n"
     ]
    }
   ],
   "source": [
    "new_data.groupBy(fun.year('Date')).agg(fun.max('High')).show()"
   ]
  },
  {
   "cell_type": "markdown",
   "metadata": {
    "id": "Qzrj0hnQQEVK"
   },
   "source": [
    "#### What is the average Close for each Calendar Month?\n",
    "#### In other words, across all the years, what is the average Close price for Jan,Feb, Mar, etc"
   ]
  },
  {
   "cell_type": "code",
   "execution_count": 20,
   "metadata": {
    "id": "dCRHSQiJQEVK",
    "outputId": "e8688d22-090b-4b31-9d5e-dbc64196b4ba"
   },
   "outputs": [
    {
     "name": "stdout",
     "output_type": "stream",
     "text": [
      "+-----------+-----------------+\n",
      "|month(Date)|       avg(Close)|\n",
      "+-----------+-----------------+\n",
      "|         12|72.84792482628012|\n",
      "|          1| 71.4480196131338|\n",
      "|          6| 72.4953774506191|\n",
      "|          3|71.77794376266337|\n",
      "|          5|72.30971685445533|\n",
      "|          9|72.18411782208611|\n",
      "|          4|72.97361900692894|\n",
      "|          8| 73.0298185521906|\n",
      "|          7|74.43971944078106|\n",
      "|         10| 71.5785454489968|\n",
      "|         11|72.11108927207418|\n",
      "|          2|71.30680438169499|\n",
      "+-----------+-----------------+\n",
      "\n"
     ]
    }
   ],
   "source": [
    "new_data.groupBy(fun.month('Date')).agg(fun.mean('Close')).show()"
   ]
  }
 ],
 "metadata": {
  "anaconda-cloud": {},
  "colab": {
   "name": "PySpark H.W Session 1.ipynb",
   "provenance": []
  },
  "kernelspec": {
   "display_name": "Python 3 (ipykernel)",
   "language": "python",
   "name": "python3"
  },
  "language_info": {
   "codemirror_mode": {
    "name": "ipython",
    "version": 3
   },
   "file_extension": ".py",
   "mimetype": "text/x-python",
   "name": "python",
   "nbconvert_exporter": "python",
   "pygments_lexer": "ipython3",
   "version": "3.9.7"
  }
 },
 "nbformat": 4,
 "nbformat_minor": 1
}
